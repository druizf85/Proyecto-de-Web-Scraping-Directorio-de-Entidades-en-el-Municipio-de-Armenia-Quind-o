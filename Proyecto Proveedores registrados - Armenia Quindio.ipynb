{
 "cells": [
  {
   "cell_type": "markdown",
   "metadata": {},
   "source": [
    "Se importan las librerías que se usarán en este proyecto"
   ]
  },
  {
   "cell_type": "code",
   "execution_count": 55,
   "metadata": {},
   "outputs": [],
   "source": [
    "import pandas as pd\n",
    "import requests\n",
    "import json\n",
    "from urllib.parse import urlencode\n",
    "import matplotlib.pyplot as plt\n",
    "from datetime import date"
   ]
  },
  {
   "cell_type": "markdown",
   "metadata": {},
   "source": [
    "A continuación se va a construir una URL para hacer una solicitud a una API web, para este caso SECOP II - Proveedores Registrados - Armenia (Quindío)."
   ]
  },
  {
   "cell_type": "code",
   "execution_count": 56,
   "metadata": {},
   "outputs": [],
   "source": [
    "base_url = 'https://www.datos.gov.co/resource/56sy-nvip.json'\n",
    "limit = 20000  \n",
    "params = urlencode({'$limit': limit})\n",
    "url = f'{base_url}?{params}'"
   ]
  },
  {
   "cell_type": "markdown",
   "metadata": {},
   "source": [
    "Se hace una solicitud HTTP GET a la URL construida anteriormente utilizando la biblioteca requests. Luego, la informaciòn que está en formato JSON se debe transformar en un objeto de python, luego en una dataframe con pandas. Si la solicitud no fue exitosa, se indica que nos indique que hay un error en la solicitud a la API. "
   ]
  },
  {
   "cell_type": "code",
   "execution_count": 57,
   "metadata": {},
   "outputs": [],
   "source": [
    "response = requests.get(url)\n",
    "\n",
    "if response.status_code == 200:\n",
    "    data = response.json()\n",
    "    directorio = pd.DataFrame(data)\n",
    "else:\n",
    "    print('Error en la solicitud a la API:', response.status_code)"
   ]
  },
  {
   "cell_type": "markdown",
   "metadata": {},
   "source": [
    "Verificamos las dimensiones de la base de datos que acabamos de crear."
   ]
  },
  {
   "cell_type": "code",
   "execution_count": 58,
   "metadata": {},
   "outputs": [
    {
     "data": {
      "text/plain": [
       "(2507, 11)"
      ]
     },
     "execution_count": 58,
     "metadata": {},
     "output_type": "execute_result"
    }
   ],
   "source": [
    "directorio.shape"
   ]
  },
  {
   "cell_type": "markdown",
   "metadata": {},
   "source": [
    "Ahora revisamos las 11 columnas que componen la base de datos."
   ]
  },
  {
   "cell_type": "code",
   "execution_count": 59,
   "metadata": {},
   "outputs": [
    {
     "data": {
      "text/plain": [
       "Index(['nombre', 'nit', 'tipo_empresa', 'espyme', 'ubicacion',\n",
       "       'fecha_creacion', 'pais', 'departamento', 'municipio',\n",
       "       'codigo_categoria_principal', 'descripcion_categoria_principal'],\n",
       "      dtype='object')"
      ]
     },
     "execution_count": 59,
     "metadata": {},
     "output_type": "execute_result"
    }
   ],
   "source": [
    "directorio.columns"
   ]
  },
  {
   "cell_type": "markdown",
   "metadata": {},
   "source": [
    "Se puede evidenciar que los nombres de las columnas para esta base de datos vienen con una parametrización, la fuente de datos de la que se está usando en este ejercicio nos muestra los Nombres de cada campo, estos nombres se encuentran en el archivo adjunto llamado 'Nombres columnas', vamos a realizar los respectivos reemplazos a continuación."
   ]
  },
  {
   "cell_type": "code",
   "execution_count": 60,
   "metadata": {},
   "outputs": [],
   "source": [
    "reemplazos_columnas = {'nombre': 'Nombre',\n",
    "'nit':'NIT',\n",
    "'tipo_empresa':'Tipo Empresa',\n",
    "'espyme':'Es Pyme',\n",
    "'ubicacion':'Ubicación',\n",
    "'fecha_creacion':'Fecha Creación',\n",
    "'pais':'Pais', \n",
    "'departamento':'Departamento', \n",
    "'municipio':'Municipio', \n",
    "'codigo_categoria_principal':'Codigo Categoria Principal', \n",
    "'descripcion_categoria_principal':'Descripcion Categoria Principal',                        \n",
    "}\n",
    "\n",
    "directorio.rename(columns=reemplazos_columnas, inplace=True)"
   ]
  },
  {
   "cell_type": "markdown",
   "metadata": {},
   "source": [
    "Se comprueban los cambios realizados."
   ]
  },
  {
   "cell_type": "code",
   "execution_count": 61,
   "metadata": {},
   "outputs": [
    {
     "data": {
      "text/plain": [
       "Index(['Nombre', 'NIT', 'Tipo Empresa', 'Es Pyme', 'Ubicación',\n",
       "       'Fecha Creación', 'Pais', 'Departamento', 'Municipio',\n",
       "       'Codigo Categoria Principal', 'Descripcion Categoria Principal'],\n",
       "      dtype='object')"
      ]
     },
     "execution_count": 61,
     "metadata": {},
     "output_type": "execute_result"
    }
   ],
   "source": [
    "directorio.columns"
   ]
  },
  {
   "cell_type": "markdown",
   "metadata": {},
   "source": [
    "Vamos a conocer el tipo de datos que contiene cada columna de la base de datos."
   ]
  },
  {
   "cell_type": "code",
   "execution_count": 62,
   "metadata": {},
   "outputs": [
    {
     "data": {
      "text/plain": [
       "Nombre                             object\n",
       "NIT                                object\n",
       "Tipo Empresa                       object\n",
       "Es Pyme                            object\n",
       "Ubicación                          object\n",
       "Fecha Creación                     object\n",
       "Pais                               object\n",
       "Departamento                       object\n",
       "Municipio                          object\n",
       "Codigo Categoria Principal         object\n",
       "Descripcion Categoria Principal    object\n",
       "dtype: object"
      ]
     },
     "execution_count": 62,
     "metadata": {},
     "output_type": "execute_result"
    }
   ],
   "source": [
    "tipos_de_datos = directorio.dtypes\n",
    "\n",
    "tipos_de_datos"
   ]
  },
  {
   "cell_type": "markdown",
   "metadata": {},
   "source": [
    "Se evidencia que los datos de fecha de creación de las empresas estan como tipo 'object'. Vamos a cambiar ahora la fecha de creación de las empresas, de modo que sean todas con formato de fecha-hora."
   ]
  },
  {
   "cell_type": "code",
   "execution_count": 63,
   "metadata": {},
   "outputs": [
    {
     "name": "stdout",
     "output_type": "stream",
     "text": [
      "Formato de fecha de creación inicial: object\n",
      "Formato de fecha de creación después del cambio de formato: datetime64[ns]\n"
     ]
    }
   ],
   "source": [
    "print(f'Formato de fecha de creación inicial: {directorio['Fecha Creación'].dtype}')\n",
    "directorio['Fecha Creación']=pd.to_datetime(directorio['Fecha Creación'])\n",
    "print(f'Formato de fecha de creación después del cambio de formato: {directorio['Fecha Creación'].dtype}')"
   ]
  },
  {
   "cell_type": "markdown",
   "metadata": {},
   "source": [
    "Verificamos nuevamente los tipos de datos"
   ]
  },
  {
   "cell_type": "code",
   "execution_count": 64,
   "metadata": {},
   "outputs": [
    {
     "data": {
      "text/plain": [
       "Nombre                             object\n",
       "NIT                                object\n",
       "Tipo Empresa                       object\n",
       "Es Pyme                            object\n",
       "Ubicación                          object\n",
       "Fecha Creación                     object\n",
       "Pais                               object\n",
       "Departamento                       object\n",
       "Municipio                          object\n",
       "Codigo Categoria Principal         object\n",
       "Descripcion Categoria Principal    object\n",
       "dtype: object"
      ]
     },
     "execution_count": 64,
     "metadata": {},
     "output_type": "execute_result"
    }
   ],
   "source": [
    "tipos_de_datos"
   ]
  },
  {
   "cell_type": "markdown",
   "metadata": {},
   "source": [
    "Ahora, se quiere conocer inicialmente, si la base de datos realmente nos está mostrando información de proveedores registrados en Armenia, Quindío, por lo cual se hace una agrupación, indicando el depatamento y municipio de acuerdo con el NIT de la empresa."
   ]
  },
  {
   "cell_type": "code",
   "execution_count": 65,
   "metadata": {},
   "outputs": [
    {
     "data": {
      "text/html": [
       "<div>\n",
       "<style scoped>\n",
       "    .dataframe tbody tr th:only-of-type {\n",
       "        vertical-align: middle;\n",
       "    }\n",
       "\n",
       "    .dataframe tbody tr th {\n",
       "        vertical-align: top;\n",
       "    }\n",
       "\n",
       "    .dataframe thead th {\n",
       "        text-align: right;\n",
       "    }\n",
       "</style>\n",
       "<table border=\"1\" class=\"dataframe\">\n",
       "  <thead>\n",
       "    <tr style=\"text-align: right;\">\n",
       "      <th></th>\n",
       "      <th></th>\n",
       "      <th>NIT</th>\n",
       "      <th>Porcentaje_de_Participacion</th>\n",
       "    </tr>\n",
       "    <tr>\n",
       "      <th>Departamento</th>\n",
       "      <th>Municipio</th>\n",
       "      <th></th>\n",
       "      <th></th>\n",
       "    </tr>\n",
       "  </thead>\n",
       "  <tbody>\n",
       "    <tr>\n",
       "      <th>Quindío</th>\n",
       "      <th>Armenia</th>\n",
       "      <td>2505</td>\n",
       "      <td>99.920223</td>\n",
       "    </tr>\n",
       "    <tr>\n",
       "      <th>Antioquia</th>\n",
       "      <th>Armenia</th>\n",
       "      <td>2</td>\n",
       "      <td>0.079777</td>\n",
       "    </tr>\n",
       "  </tbody>\n",
       "</table>\n",
       "</div>"
      ],
      "text/plain": [
       "                         NIT  Porcentaje_de_Participacion\n",
       "Departamento Municipio                                   \n",
       "Quindío      Armenia    2505                    99.920223\n",
       "Antioquia    Armenia       2                     0.079777"
      ]
     },
     "execution_count": 65,
     "metadata": {},
     "output_type": "execute_result"
    }
   ],
   "source": [
    "ubicacion_agrupados = pd.DataFrame(directorio.groupby(['Departamento','Municipio'])['NIT'].count()).sort_values('NIT',ascending=False).assign(Porcentaje_de_Participacion=lambda x: (x['NIT'] / x['NIT'].sum()) * 100)\n",
    "\n",
    "ubicacion_agrupados"
   ]
  },
  {
   "cell_type": "markdown",
   "metadata": {},
   "source": [
    "Se puede evidenciar un error en esta base de datos, hay un municipio que se llama armenia pero se encuentra ubicado en Antioquia, debe retirarse de la base de datos porque ùnicamente nos interesan las empresas de Armenia, Quindío."
   ]
  },
  {
   "cell_type": "code",
   "execution_count": 66,
   "metadata": {},
   "outputs": [],
   "source": [
    "directorio = directorio.loc[directorio['Departamento'] == 'Quindío']"
   ]
  },
  {
   "cell_type": "markdown",
   "metadata": {},
   "source": [
    "Se verifica entonces que ahora sólo registran las empresas de Armenia, Quindío."
   ]
  },
  {
   "cell_type": "code",
   "execution_count": 67,
   "metadata": {},
   "outputs": [
    {
     "data": {
      "text/html": [
       "<div>\n",
       "<style scoped>\n",
       "    .dataframe tbody tr th:only-of-type {\n",
       "        vertical-align: middle;\n",
       "    }\n",
       "\n",
       "    .dataframe tbody tr th {\n",
       "        vertical-align: top;\n",
       "    }\n",
       "\n",
       "    .dataframe thead th {\n",
       "        text-align: right;\n",
       "    }\n",
       "</style>\n",
       "<table border=\"1\" class=\"dataframe\">\n",
       "  <thead>\n",
       "    <tr style=\"text-align: right;\">\n",
       "      <th></th>\n",
       "      <th></th>\n",
       "      <th>NIT</th>\n",
       "      <th>Porcentaje_de_Participacion</th>\n",
       "    </tr>\n",
       "    <tr>\n",
       "      <th>Departamento</th>\n",
       "      <th>Municipio</th>\n",
       "      <th></th>\n",
       "      <th></th>\n",
       "    </tr>\n",
       "  </thead>\n",
       "  <tbody>\n",
       "    <tr>\n",
       "      <th>Quindío</th>\n",
       "      <th>Armenia</th>\n",
       "      <td>2505</td>\n",
       "      <td>100.0</td>\n",
       "    </tr>\n",
       "  </tbody>\n",
       "</table>\n",
       "</div>"
      ],
      "text/plain": [
       "                         NIT  Porcentaje_de_Participacion\n",
       "Departamento Municipio                                   \n",
       "Quindío      Armenia    2505                        100.0"
      ]
     },
     "execution_count": 67,
     "metadata": {},
     "output_type": "execute_result"
    }
   ],
   "source": [
    "ubicacion_agrupados = pd.DataFrame(directorio.groupby(['Departamento','Municipio'])['NIT'].count()).sort_values('NIT',ascending=False).assign(Porcentaje_de_Participacion=lambda x: (x['NIT'] / x['NIT'].sum()) * 100)\n",
    "\n",
    "ubicacion_agrupados"
   ]
  },
  {
   "cell_type": "markdown",
   "metadata": {},
   "source": [
    "Ahora bien, se verifica la distribución por tipo de empresa, para ello se debe conocer los valores únicos para esta columna 'Tipo Empresa'."
   ]
  },
  {
   "cell_type": "code",
   "execution_count": 68,
   "metadata": {},
   "outputs": [
    {
     "data": {
      "text/plain": [
       "array(['Fundaciones', 'Fundação', 'Persona Natural colombiana',\n",
       "       'Sociedad de Responsabilidad Limitada colombiana',\n",
       "       'Otras Entidades públicas', 'Sociedad Anónima Cerrada Colombiana',\n",
       "       'Sociedad por acciones simplificada',\n",
       "       'Sucursal de Sociedad Extranjera', 'Asociaciones', 'Corporaciones',\n",
       "       'Cooperativas', 'Sociedad Anónima Abierta colombiana',\n",
       "       'Entidad Estatal de acuerdo con la definición del Decreto 1082 de 2015',\n",
       "       'Consorcio', 'Entidades sin ánimo de lucro',\n",
       "       'Sociedad en Comandita por Acciones colombiana',\n",
       "       'Promesa de Sociedad Futura',\n",
       "       'Sociedad en Comandita Simple colombiana', 'Unión Temporal',\n",
       "       'Empresa unipersonal colombiana', 'Federaciones', 'Otro',\n",
       "       'Persona Natural Extranjera', 'Patrimonios Autónomos',\n",
       "       'Estructura Plural', 'Veeduria Ciudadana', 'No Definido',\n",
       "       'Institución de Educación Superior', 'Universidades',\n",
       "       'Empresario Individual'], dtype=object)"
      ]
     },
     "execution_count": 68,
     "metadata": {},
     "output_type": "execute_result"
    }
   ],
   "source": [
    "directorio['Tipo Empresa'].unique()"
   ]
  },
  {
   "cell_type": "markdown",
   "metadata": {},
   "source": [
    "Se agrupan los tipos de empresa que se consideren para agrupar, por ejemplo las fundaciones."
   ]
  },
  {
   "cell_type": "code",
   "execution_count": 69,
   "metadata": {},
   "outputs": [
    {
     "name": "stderr",
     "output_type": "stream",
     "text": [
      "C:\\Windows\\Temp\\ipykernel_21792\\1581507725.py:3: FutureWarning: A value is trying to be set on a copy of a DataFrame or Series through chained assignment using an inplace method.\n",
      "The behavior will change in pandas 3.0. This inplace method will never work because the intermediate object on which we are setting values always behaves as a copy.\n",
      "\n",
      "For example, when doing 'df[col].method(value, inplace=True)', try using 'df.method({col: value}, inplace=True)' or df[col] = df[col].method(value) instead, to perform the operation inplace on the original object.\n",
      "\n",
      "\n",
      "  directorio['Tipo Empresa'].replace(reemplazos_tipo_empresa, inplace=True)\n"
     ]
    }
   ],
   "source": [
    "reemplazos_tipo_empresa = {'Fundação': 'Fundaciones'                        \n",
    "}\n",
    "directorio['Tipo Empresa'].replace(reemplazos_tipo_empresa, inplace=True)"
   ]
  },
  {
   "cell_type": "markdown",
   "metadata": {},
   "source": [
    "Verificamos la distribución."
   ]
  },
  {
   "cell_type": "code",
   "execution_count": 70,
   "metadata": {},
   "outputs": [
    {
     "data": {
      "text/html": [
       "<div>\n",
       "<style scoped>\n",
       "    .dataframe tbody tr th:only-of-type {\n",
       "        vertical-align: middle;\n",
       "    }\n",
       "\n",
       "    .dataframe tbody tr th {\n",
       "        vertical-align: top;\n",
       "    }\n",
       "\n",
       "    .dataframe thead th {\n",
       "        text-align: right;\n",
       "    }\n",
       "</style>\n",
       "<table border=\"1\" class=\"dataframe\">\n",
       "  <thead>\n",
       "    <tr style=\"text-align: right;\">\n",
       "      <th></th>\n",
       "      <th>NIT</th>\n",
       "      <th>Porcentaje_de_Participacion</th>\n",
       "    </tr>\n",
       "    <tr>\n",
       "      <th>Tipo Empresa</th>\n",
       "      <th></th>\n",
       "      <th></th>\n",
       "    </tr>\n",
       "  </thead>\n",
       "  <tbody>\n",
       "    <tr>\n",
       "      <th>Consorcio</th>\n",
       "      <td>1188</td>\n",
       "      <td>47.425150</td>\n",
       "    </tr>\n",
       "    <tr>\n",
       "      <th>Persona Natural colombiana</th>\n",
       "      <td>372</td>\n",
       "      <td>14.850299</td>\n",
       "    </tr>\n",
       "    <tr>\n",
       "      <th>Sociedad por acciones simplificada</th>\n",
       "      <td>360</td>\n",
       "      <td>14.371257</td>\n",
       "    </tr>\n",
       "    <tr>\n",
       "      <th>Unión Temporal</th>\n",
       "      <td>208</td>\n",
       "      <td>8.303393</td>\n",
       "    </tr>\n",
       "    <tr>\n",
       "      <th>Otro</th>\n",
       "      <td>92</td>\n",
       "      <td>3.672655</td>\n",
       "    </tr>\n",
       "    <tr>\n",
       "      <th>Sociedad de Responsabilidad Limitada colombiana</th>\n",
       "      <td>49</td>\n",
       "      <td>1.956088</td>\n",
       "    </tr>\n",
       "    <tr>\n",
       "      <th>Entidad Estatal de acuerdo con la definición del Decreto 1082 de 2015</th>\n",
       "      <td>36</td>\n",
       "      <td>1.437126</td>\n",
       "    </tr>\n",
       "    <tr>\n",
       "      <th>Sociedad Anónima Abierta colombiana</th>\n",
       "      <td>34</td>\n",
       "      <td>1.357285</td>\n",
       "    </tr>\n",
       "    <tr>\n",
       "      <th>Fundaciones</th>\n",
       "      <td>26</td>\n",
       "      <td>1.037924</td>\n",
       "    </tr>\n",
       "    <tr>\n",
       "      <th>Otras Entidades públicas</th>\n",
       "      <td>23</td>\n",
       "      <td>0.918164</td>\n",
       "    </tr>\n",
       "    <tr>\n",
       "      <th>Entidades sin ánimo de lucro</th>\n",
       "      <td>22</td>\n",
       "      <td>0.878244</td>\n",
       "    </tr>\n",
       "    <tr>\n",
       "      <th>Asociaciones</th>\n",
       "      <td>16</td>\n",
       "      <td>0.638723</td>\n",
       "    </tr>\n",
       "    <tr>\n",
       "      <th>Sociedad Anónima Cerrada Colombiana</th>\n",
       "      <td>15</td>\n",
       "      <td>0.598802</td>\n",
       "    </tr>\n",
       "    <tr>\n",
       "      <th>Cooperativas</th>\n",
       "      <td>11</td>\n",
       "      <td>0.439122</td>\n",
       "    </tr>\n",
       "    <tr>\n",
       "      <th>Corporaciones</th>\n",
       "      <td>10</td>\n",
       "      <td>0.399202</td>\n",
       "    </tr>\n",
       "    <tr>\n",
       "      <th>Sociedad en Comandita Simple colombiana</th>\n",
       "      <td>9</td>\n",
       "      <td>0.359281</td>\n",
       "    </tr>\n",
       "    <tr>\n",
       "      <th>No Definido</th>\n",
       "      <td>6</td>\n",
       "      <td>0.239521</td>\n",
       "    </tr>\n",
       "    <tr>\n",
       "      <th>Empresa unipersonal colombiana</th>\n",
       "      <td>5</td>\n",
       "      <td>0.199601</td>\n",
       "    </tr>\n",
       "    <tr>\n",
       "      <th>Sociedad en Comandita por Acciones colombiana</th>\n",
       "      <td>5</td>\n",
       "      <td>0.199601</td>\n",
       "    </tr>\n",
       "    <tr>\n",
       "      <th>Sucursal de Sociedad Extranjera</th>\n",
       "      <td>4</td>\n",
       "      <td>0.159681</td>\n",
       "    </tr>\n",
       "    <tr>\n",
       "      <th>Veeduria Ciudadana</th>\n",
       "      <td>4</td>\n",
       "      <td>0.159681</td>\n",
       "    </tr>\n",
       "    <tr>\n",
       "      <th>Promesa de Sociedad Futura</th>\n",
       "      <td>2</td>\n",
       "      <td>0.079840</td>\n",
       "    </tr>\n",
       "    <tr>\n",
       "      <th>Patrimonios Autónomos</th>\n",
       "      <td>2</td>\n",
       "      <td>0.079840</td>\n",
       "    </tr>\n",
       "    <tr>\n",
       "      <th>Estructura Plural</th>\n",
       "      <td>1</td>\n",
       "      <td>0.039920</td>\n",
       "    </tr>\n",
       "    <tr>\n",
       "      <th>Empresario Individual</th>\n",
       "      <td>1</td>\n",
       "      <td>0.039920</td>\n",
       "    </tr>\n",
       "    <tr>\n",
       "      <th>Institución de Educación Superior</th>\n",
       "      <td>1</td>\n",
       "      <td>0.039920</td>\n",
       "    </tr>\n",
       "    <tr>\n",
       "      <th>Persona Natural Extranjera</th>\n",
       "      <td>1</td>\n",
       "      <td>0.039920</td>\n",
       "    </tr>\n",
       "    <tr>\n",
       "      <th>Universidades</th>\n",
       "      <td>1</td>\n",
       "      <td>0.039920</td>\n",
       "    </tr>\n",
       "    <tr>\n",
       "      <th>Federaciones</th>\n",
       "      <td>1</td>\n",
       "      <td>0.039920</td>\n",
       "    </tr>\n",
       "  </tbody>\n",
       "</table>\n",
       "</div>"
      ],
      "text/plain": [
       "                                                     NIT  \\\n",
       "Tipo Empresa                                               \n",
       "Consorcio                                           1188   \n",
       "Persona Natural colombiana                           372   \n",
       "Sociedad por acciones simplificada                   360   \n",
       "Unión Temporal                                       208   \n",
       "Otro                                                  92   \n",
       "Sociedad de Responsabilidad Limitada colombiana       49   \n",
       "Entidad Estatal de acuerdo con la definición de...    36   \n",
       "Sociedad Anónima Abierta colombiana                   34   \n",
       "Fundaciones                                           26   \n",
       "Otras Entidades públicas                              23   \n",
       "Entidades sin ánimo de lucro                          22   \n",
       "Asociaciones                                          16   \n",
       "Sociedad Anónima Cerrada Colombiana                   15   \n",
       "Cooperativas                                          11   \n",
       "Corporaciones                                         10   \n",
       "Sociedad en Comandita Simple colombiana                9   \n",
       "No Definido                                            6   \n",
       "Empresa unipersonal colombiana                         5   \n",
       "Sociedad en Comandita por Acciones colombiana          5   \n",
       "Sucursal de Sociedad Extranjera                        4   \n",
       "Veeduria Ciudadana                                     4   \n",
       "Promesa de Sociedad Futura                             2   \n",
       "Patrimonios Autónomos                                  2   \n",
       "Estructura Plural                                      1   \n",
       "Empresario Individual                                  1   \n",
       "Institución de Educación Superior                      1   \n",
       "Persona Natural Extranjera                             1   \n",
       "Universidades                                          1   \n",
       "Federaciones                                           1   \n",
       "\n",
       "                                                    Porcentaje_de_Participacion  \n",
       "Tipo Empresa                                                                     \n",
       "Consorcio                                                             47.425150  \n",
       "Persona Natural colombiana                                            14.850299  \n",
       "Sociedad por acciones simplificada                                    14.371257  \n",
       "Unión Temporal                                                         8.303393  \n",
       "Otro                                                                   3.672655  \n",
       "Sociedad de Responsabilidad Limitada colombiana                        1.956088  \n",
       "Entidad Estatal de acuerdo con la definición de...                     1.437126  \n",
       "Sociedad Anónima Abierta colombiana                                    1.357285  \n",
       "Fundaciones                                                            1.037924  \n",
       "Otras Entidades públicas                                               0.918164  \n",
       "Entidades sin ánimo de lucro                                           0.878244  \n",
       "Asociaciones                                                           0.638723  \n",
       "Sociedad Anónima Cerrada Colombiana                                    0.598802  \n",
       "Cooperativas                                                           0.439122  \n",
       "Corporaciones                                                          0.399202  \n",
       "Sociedad en Comandita Simple colombiana                                0.359281  \n",
       "No Definido                                                            0.239521  \n",
       "Empresa unipersonal colombiana                                         0.199601  \n",
       "Sociedad en Comandita por Acciones colombiana                          0.199601  \n",
       "Sucursal de Sociedad Extranjera                                        0.159681  \n",
       "Veeduria Ciudadana                                                     0.159681  \n",
       "Promesa de Sociedad Futura                                             0.079840  \n",
       "Patrimonios Autónomos                                                  0.079840  \n",
       "Estructura Plural                                                      0.039920  \n",
       "Empresario Individual                                                  0.039920  \n",
       "Institución de Educación Superior                                      0.039920  \n",
       "Persona Natural Extranjera                                             0.039920  \n",
       "Universidades                                                          0.039920  \n",
       "Federaciones                                                           0.039920  "
      ]
     },
     "execution_count": 70,
     "metadata": {},
     "output_type": "execute_result"
    }
   ],
   "source": [
    "tipo_empresa_agrupados = pd.DataFrame(directorio.groupby('Tipo Empresa')['NIT'].count()).sort_values('NIT',ascending=False).assign(Porcentaje_de_Participacion=lambda x: (x['NIT'] / x['NIT'].sum()) * 100)\n",
    "tipo_empresa_agrupados"
   ]
  },
  {
   "cell_type": "markdown",
   "metadata": {},
   "source": [
    "Se puede evidenciar que el 47% de los proveedores registrados en Armenia, Quindío registran como Consorcios."
   ]
  },
  {
   "cell_type": "markdown",
   "metadata": {},
   "source": [
    "Vamos a ver la distribución de las mipymes registradas en Armenia, Quindío."
   ]
  },
  {
   "cell_type": "code",
   "execution_count": 71,
   "metadata": {},
   "outputs": [
    {
     "data": {
      "text/html": [
       "<div>\n",
       "<style scoped>\n",
       "    .dataframe tbody tr th:only-of-type {\n",
       "        vertical-align: middle;\n",
       "    }\n",
       "\n",
       "    .dataframe tbody tr th {\n",
       "        vertical-align: top;\n",
       "    }\n",
       "\n",
       "    .dataframe thead th {\n",
       "        text-align: right;\n",
       "    }\n",
       "</style>\n",
       "<table border=\"1\" class=\"dataframe\">\n",
       "  <thead>\n",
       "    <tr style=\"text-align: right;\">\n",
       "      <th></th>\n",
       "      <th>NIT</th>\n",
       "      <th>Porcentaje_de_Participacion</th>\n",
       "    </tr>\n",
       "    <tr>\n",
       "      <th>Es Pyme</th>\n",
       "      <th></th>\n",
       "      <th></th>\n",
       "    </tr>\n",
       "  </thead>\n",
       "  <tbody>\n",
       "    <tr>\n",
       "      <th>No</th>\n",
       "      <td>1751</td>\n",
       "      <td>69.9002</td>\n",
       "    </tr>\n",
       "    <tr>\n",
       "      <th>Si</th>\n",
       "      <td>754</td>\n",
       "      <td>30.0998</td>\n",
       "    </tr>\n",
       "  </tbody>\n",
       "</table>\n",
       "</div>"
      ],
      "text/plain": [
       "          NIT  Porcentaje_de_Participacion\n",
       "Es Pyme                                   \n",
       "No       1751                      69.9002\n",
       "Si        754                      30.0998"
      ]
     },
     "execution_count": 71,
     "metadata": {},
     "output_type": "execute_result"
    }
   ],
   "source": [
    "tamaño_empresa_agrupados = pd.DataFrame(directorio.groupby('Es Pyme')['NIT'].count()).sort_values('NIT',ascending=False).assign(Porcentaje_de_Participacion=lambda x: (x['NIT'] / x['NIT'].sum()) * 100)\n",
    "\n",
    "tamaño_empresa_agrupados"
   ]
  },
  {
   "cell_type": "markdown",
   "metadata": {},
   "source": [
    "Ahora veamos esta misma distribución pero en una gráfica de torta."
   ]
  },
  {
   "cell_type": "code",
   "execution_count": 72,
   "metadata": {},
   "outputs": [
    {
     "data": {
      "image/png": "[encoded data removed]",
      "text/plain": [
       "<Figure size 400x400 with 1 Axes>"
      ]
     },
     "metadata": {},
     "output_type": "display_data"
    }
   ],
   "source": [
    "pyme_counts = directorio['Es Pyme'].value_counts()\n",
    "plt.figure(figsize=(4, 4))\n",
    "plt.pie(pyme_counts, labels=pyme_counts.index, autopct='%1.1f%%', startangle=90)\n",
    "plt.title('La Empresa es Pyme')\n",
    "plt.show()"
   ]
  },
  {
   "cell_type": "markdown",
   "metadata": {},
   "source": [
    "De esta forma podemos concluir que el 30% de las empresas que están registradas en Armenia se encuentran clasificadas como PYME. "
   ]
  },
  {
   "cell_type": "markdown",
   "metadata": {},
   "source": [
    "Ahora vamos a otorgar una fecha de actualización del día de hoy."
   ]
  },
  {
   "cell_type": "code",
   "execution_count": 73,
   "metadata": {},
   "outputs": [],
   "source": [
    "hoy = date.today()\n",
    "directorio['HOY'] = hoy\n",
    "directorio['HOY'] = pd.to_datetime(directorio['HOY'])"
   ]
  },
  {
   "cell_type": "markdown",
   "metadata": {},
   "source": [
    "Finalmente, se creará un archivo excel con esta base de datos depurada."
   ]
  },
  {
   "cell_type": "code",
   "execution_count": 74,
   "metadata": {},
   "outputs": [],
   "source": [
    "excel_path='C:\\\\Users\\\\danie\\\\OneDrive\\\\Escritorio\\\\Web Scraping API - CCE\\\\DIRECTORIO ARMENIA.xlsx'\n",
    "directorio.to_excel(excel_path,sheet_name='Armenia')"
   ]
  }
 ],
 "metadata": {
  "kernelspec": {
   "display_name": "Python 3",
   "language": "python",
   "name": "python3"
  },
  "language_info": {
   "codemirror_mode": {
    "name": "ipython",
    "version": 3
   },
   "file_extension": ".py",
   "mimetype": "text/x-python",
   "name": "python",
   "nbconvert_exporter": "python",
   "pygments_lexer": "ipython3",
   "version": "3.12.2"
  }
 },
 "nbformat": 4,
 "nbformat_minor": 2
}
